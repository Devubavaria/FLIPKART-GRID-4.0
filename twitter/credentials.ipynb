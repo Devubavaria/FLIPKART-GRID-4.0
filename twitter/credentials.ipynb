{
 "cells": [
  {
   "cell_type": "code",
   "execution_count": 2,
   "id": "ed21f7e9",
   "metadata": {},
   "outputs": [],
   "source": [
    "access_token = \"1433414148939935748-w68Aa1T2JlQZ8uPvorMf7AHshjtkuu\"\n",
    "access_token_secret = \"ytVRmVh7ckJppLvoU9ANopqCHV3faUJZScHjm1UWT6fHQ\"\n",
    "api_key = \"aWKl1hXhiH8Zqr1kwjkD6LlaN\"\n",
    "api_key_secret = \"qdonHBnMAJkmnuYrOUmJBQhPdOQ0zshiJ58JhecIhW3qsyuEwE\""
   ]
  },
  {
   "cell_type": "code",
   "execution_count": null,
   "id": "33b8ac20",
   "metadata": {},
   "outputs": [],
   "source": []
  }
 ],
 "metadata": {
  "kernelspec": {
   "display_name": "Python 3 (ipykernel)",
   "language": "python",
   "name": "python3"
  },
  "language_info": {
   "codemirror_mode": {
    "name": "ipython",
    "version": 3
   },
   "file_extension": ".py",
   "mimetype": "text/x-python",
   "name": "python",
   "nbconvert_exporter": "python",
   "pygments_lexer": "ipython3",
   "version": "3.9.7"
  }
 },
 "nbformat": 4,
 "nbformat_minor": 5
}
