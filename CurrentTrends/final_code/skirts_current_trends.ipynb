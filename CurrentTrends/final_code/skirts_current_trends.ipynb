{
 "cells": [
  {
   "cell_type": "code",
   "execution_count": 77,
   "metadata": {},
   "outputs": [],
   "source": [
    "import pandas as pd\n",
    "from vaderSentiment.vaderSentiment import SentimentIntensityAnalyzer\n",
    "import nltk\n",
    "import re\n",
    "analyser = SentimentIntensityAnalyzer()"
   ]
  },
  {
   "cell_type": "code",
   "execution_count": 78,
   "metadata": {},
   "outputs": [],
   "source": [
    "data=pd.read_csv(\"skirt-flipkart-final-final.csv\")\n",
    "data.head()\n",
    "data=data[['URL','ID','ITEM','STARS','NUMBER OF RATINGS','NUMBER OF REVIEWS', 'LIST OF REVIEWS']]"
   ]
  },
  {
   "cell_type": "code",
   "execution_count": 79,
   "metadata": {},
   "outputs": [
    {
     "data": {
      "text/html": [
       "<div>\n",
       "<style scoped>\n",
       "    .dataframe tbody tr th:only-of-type {\n",
       "        vertical-align: middle;\n",
       "    }\n",
       "\n",
       "    .dataframe tbody tr th {\n",
       "        vertical-align: top;\n",
       "    }\n",
       "\n",
       "    .dataframe thead th {\n",
       "        text-align: right;\n",
       "    }\n",
       "</style>\n",
       "<table border=\"1\" class=\"dataframe\">\n",
       "  <thead>\n",
       "    <tr style=\"text-align: right;\">\n",
       "      <th></th>\n",
       "      <th>URL</th>\n",
       "      <th>id</th>\n",
       "      <th>desc</th>\n",
       "      <th>stars</th>\n",
       "      <th>num_ratings</th>\n",
       "      <th>num_reviews</th>\n",
       "      <th>reviews</th>\n",
       "    </tr>\n",
       "  </thead>\n",
       "  <tbody>\n",
       "    <tr>\n",
       "      <th>0</th>\n",
       "      <td>http://flipkart.com/vikalps-printed-women-regu...</td>\n",
       "      <td>0</td>\n",
       "      <td>Women Printed Regular Maroon Skirt</td>\n",
       "      <td>3.8</td>\n",
       "      <td>536</td>\n",
       "      <td>83</td>\n",
       "      <td>['nice skirt.. n febric is also good, go for i...</td>\n",
       "    </tr>\n",
       "    <tr>\n",
       "      <th>1</th>\n",
       "      <td>http://flipkart.com/frionkandy-printed-women-w...</td>\n",
       "      <td>1</td>\n",
       "      <td>Women Printed Wrap Around Black Skirt</td>\n",
       "      <td>4.1</td>\n",
       "      <td>1825</td>\n",
       "      <td>297</td>\n",
       "      <td>['nice quality in this price', 'lovely product...</td>\n",
       "    </tr>\n",
       "    <tr>\n",
       "      <th>2</th>\n",
       "      <td>http://flipkart.com/vikalps-embroidered-women-...</td>\n",
       "      <td>2</td>\n",
       "      <td>Women Embroidered A-line White Skirt</td>\n",
       "      <td>4.1</td>\n",
       "      <td>60</td>\n",
       "      <td>14</td>\n",
       "      <td>['Super', 'Wow', 'Quality parameters of skirt ...</td>\n",
       "    </tr>\n",
       "    <tr>\n",
       "      <th>3</th>\n",
       "      <td>http://flipkart.com/unique-choice-printed-wome...</td>\n",
       "      <td>3</td>\n",
       "      <td>Women Printed A-line Black Skirt</td>\n",
       "      <td>4.1</td>\n",
       "      <td>273</td>\n",
       "      <td>44</td>\n",
       "      <td>['really worth for money', 'Amazing product.. ...</td>\n",
       "    </tr>\n",
       "    <tr>\n",
       "      <th>4</th>\n",
       "      <td>http://flipkart.com/unique-choice-printed-wome...</td>\n",
       "      <td>4</td>\n",
       "      <td>Women Printed Wrap Around White Skirt</td>\n",
       "      <td>4.1</td>\n",
       "      <td>223</td>\n",
       "      <td>34</td>\n",
       "      <td>['Good items  thanks', 'Superb', 'Fantastic']</td>\n",
       "    </tr>\n",
       "  </tbody>\n",
       "</table>\n",
       "</div>"
      ],
      "text/plain": [
       "                                                 URL  id  \\\n",
       "0  http://flipkart.com/vikalps-printed-women-regu...   0   \n",
       "1  http://flipkart.com/frionkandy-printed-women-w...   1   \n",
       "2  http://flipkart.com/vikalps-embroidered-women-...   2   \n",
       "3  http://flipkart.com/unique-choice-printed-wome...   3   \n",
       "4  http://flipkart.com/unique-choice-printed-wome...   4   \n",
       "\n",
       "                                    desc  stars  num_ratings  num_reviews  \\\n",
       "0     Women Printed Regular Maroon Skirt    3.8          536           83   \n",
       "1  Women Printed Wrap Around Black Skirt    4.1         1825          297   \n",
       "2   Women Embroidered A-line White Skirt    4.1           60           14   \n",
       "3       Women Printed A-line Black Skirt    4.1          273           44   \n",
       "4  Women Printed Wrap Around White Skirt    4.1          223           34   \n",
       "\n",
       "                                             reviews  \n",
       "0  ['nice skirt.. n febric is also good, go for i...  \n",
       "1  ['nice quality in this price', 'lovely product...  \n",
       "2  ['Super', 'Wow', 'Quality parameters of skirt ...  \n",
       "3  ['really worth for money', 'Amazing product.. ...  \n",
       "4      ['Good items  thanks', 'Superb', 'Fantastic']  "
      ]
     },
     "execution_count": 79,
     "metadata": {},
     "output_type": "execute_result"
    }
   ],
   "source": [
    "data.rename(columns = {'ID':'id','ITEM':'desc', 'LIST OF REVIEWS':'reviews','NUMBER OF REVIEWS':'num_reviews','STARS':'stars','NUMBER OF RATINGS':'num_ratings'}, inplace=True)\n",
    "data.head()"
   ]
  },
  {
   "cell_type": "code",
   "execution_count": 80,
   "metadata": {},
   "outputs": [],
   "source": [
    "data.reviews = data.reviews.str.lower()\n",
    "data.reviews = data.reviews.str.replace('\\n','').str.replace('[\\'!\"#$%&\\()*+,-./:;<=>?@[\\\\]^_`{|}~]','')"
   ]
  },
  {
   "cell_type": "code",
   "execution_count": null,
   "metadata": {},
   "outputs": [],
   "source": [
    "data['vader_score'] = 1.0\n",
    "for ind in data.index: \n",
    "    rev=data['reviews'][ind]\n",
    "    x = rev.split()\n",
    "    sum_score=0.0\n",
    "    for i in x:\n",
    "        score = analyser.polarity_scores(i)\n",
    "        sum_score=sum_score+score['compound']\n",
    "    data['vader_score'][ind] =sum_score"
   ]
  },
  {
   "cell_type": "code",
   "execution_count": 82,
   "metadata": {},
   "outputs": [],
   "source": [
    "total_star_givers = data['num_ratings'].sum()     \n",
    "total_review_givers = data['num_reviews'].sum()"
   ]
  },
  {
   "cell_type": "code",
   "execution_count": 83,
   "metadata": {},
   "outputs": [],
   "source": [
    "data['final_score'] = ((data['stars']*data['num_ratings'])/total_star_givers)+((data['vader_score']*data['num_reviews'])/total_review_givers)"
   ]
  },
  {
   "cell_type": "code",
   "execution_count": 84,
   "metadata": {},
   "outputs": [
    {
     "data": {
      "text/html": [
       "<div>\n",
       "<style scoped>\n",
       "    .dataframe tbody tr th:only-of-type {\n",
       "        vertical-align: middle;\n",
       "    }\n",
       "\n",
       "    .dataframe tbody tr th {\n",
       "        vertical-align: top;\n",
       "    }\n",
       "\n",
       "    .dataframe thead th {\n",
       "        text-align: right;\n",
       "    }\n",
       "</style>\n",
       "<table border=\"1\" class=\"dataframe\">\n",
       "  <thead>\n",
       "    <tr style=\"text-align: right;\">\n",
       "      <th></th>\n",
       "      <th>URL</th>\n",
       "      <th>id</th>\n",
       "      <th>desc</th>\n",
       "      <th>stars</th>\n",
       "      <th>num_ratings</th>\n",
       "      <th>num_reviews</th>\n",
       "      <th>reviews</th>\n",
       "      <th>vader_score</th>\n",
       "      <th>final_score</th>\n",
       "    </tr>\n",
       "  </thead>\n",
       "  <tbody>\n",
       "    <tr>\n",
       "      <th>0</th>\n",
       "      <td>http://flipkart.com/vikalps-printed-women-regu...</td>\n",
       "      <td>0</td>\n",
       "      <td>Women Printed Regular Maroon Skirt</td>\n",
       "      <td>3.8</td>\n",
       "      <td>536</td>\n",
       "      <td>83</td>\n",
       "      <td>nice skirt n febric is also good go for it val...</td>\n",
       "      <td>2.5933</td>\n",
       "      <td>0.036874</td>\n",
       "    </tr>\n",
       "    <tr>\n",
       "      <th>1</th>\n",
       "      <td>http://flipkart.com/frionkandy-printed-women-w...</td>\n",
       "      <td>1</td>\n",
       "      <td>Women Printed Wrap Around Black Skirt</td>\n",
       "      <td>4.1</td>\n",
       "      <td>1825</td>\n",
       "      <td>297</td>\n",
       "      <td>nice quality in this price lovely product must...</td>\n",
       "      <td>2.4172</td>\n",
       "      <td>0.130452</td>\n",
       "    </tr>\n",
       "    <tr>\n",
       "      <th>2</th>\n",
       "      <td>http://flipkart.com/vikalps-embroidered-women-...</td>\n",
       "      <td>2</td>\n",
       "      <td>Women Embroidered A-line White Skirt</td>\n",
       "      <td>4.1</td>\n",
       "      <td>60</td>\n",
       "      <td>14</td>\n",
       "      <td>super wow quality parameters of skirt is good ...</td>\n",
       "      <td>1.6257</td>\n",
       "      <td>0.004231</td>\n",
       "    </tr>\n",
       "    <tr>\n",
       "      <th>3</th>\n",
       "      <td>http://flipkart.com/unique-choice-printed-wome...</td>\n",
       "      <td>3</td>\n",
       "      <td>Women Printed A-line Black Skirt</td>\n",
       "      <td>4.1</td>\n",
       "      <td>273</td>\n",
       "      <td>44</td>\n",
       "      <td>really worth for money amazing product totally...</td>\n",
       "      <td>4.1017</td>\n",
       "      <td>0.024543</td>\n",
       "    </tr>\n",
       "    <tr>\n",
       "      <th>4</th>\n",
       "      <td>http://flipkart.com/unique-choice-printed-wome...</td>\n",
       "      <td>4</td>\n",
       "      <td>Women Printed Wrap Around White Skirt</td>\n",
       "      <td>4.1</td>\n",
       "      <td>223</td>\n",
       "      <td>34</td>\n",
       "      <td>good items  thanks superb fantastic</td>\n",
       "      <td>2.0631</td>\n",
       "      <td>0.014731</td>\n",
       "    </tr>\n",
       "  </tbody>\n",
       "</table>\n",
       "</div>"
      ],
      "text/plain": [
       "                                                 URL  id  \\\n",
       "0  http://flipkart.com/vikalps-printed-women-regu...   0   \n",
       "1  http://flipkart.com/frionkandy-printed-women-w...   1   \n",
       "2  http://flipkart.com/vikalps-embroidered-women-...   2   \n",
       "3  http://flipkart.com/unique-choice-printed-wome...   3   \n",
       "4  http://flipkart.com/unique-choice-printed-wome...   4   \n",
       "\n",
       "                                    desc  stars  num_ratings  num_reviews  \\\n",
       "0     Women Printed Regular Maroon Skirt    3.8          536           83   \n",
       "1  Women Printed Wrap Around Black Skirt    4.1         1825          297   \n",
       "2   Women Embroidered A-line White Skirt    4.1           60           14   \n",
       "3       Women Printed A-line Black Skirt    4.1          273           44   \n",
       "4  Women Printed Wrap Around White Skirt    4.1          223           34   \n",
       "\n",
       "                                             reviews  vader_score  final_score  \n",
       "0  nice skirt n febric is also good go for it val...       2.5933     0.036874  \n",
       "1  nice quality in this price lovely product must...       2.4172     0.130452  \n",
       "2  super wow quality parameters of skirt is good ...       1.6257     0.004231  \n",
       "3  really worth for money amazing product totally...       4.1017     0.024543  \n",
       "4                good items  thanks superb fantastic       2.0631     0.014731  "
      ]
     },
     "execution_count": 84,
     "metadata": {},
     "output_type": "execute_result"
    }
   ],
   "source": [
    "data.head()"
   ]
  },
  {
   "cell_type": "code",
   "execution_count": 90,
   "metadata": {},
   "outputs": [],
   "source": [
    "data.to_csv('skirts_csv_final.csv')"
   ]
  },
  {
   "cell_type": "code",
   "execution_count": 85,
   "metadata": {},
   "outputs": [
    {
     "name": "stdout",
     "output_type": "stream",
     "text": [
      "{'Printed Regular': [0, 10, 25, 26, 58, 68, 89, 96, 132, 137, 142, 144, 161, 173, 177, 194, 200, 203, 217, 221, 222, 250, 253, 282, 290, 303], 'Regular Maroon': [0, 86, 148, 196, 203, 238, 294], 'Printed Wrap': [1, 4, 6, 17, 19, 20, 29, 30, 32, 36, 56, 66, 72, 99, 104, 108, 109, 111, 112, 131, 138, 140, 145, 147, 154, 158, 160, 166, 174, 178, 204, 205, 206, 208, 218, 227, 229, 235, 240, 260, 267, 268, 280, 287, 295, 298, 304, 308, 311], 'Wrap Around': [1, 4, 6, 13, 16, 17, 19, 20, 21, 29, 30, 32, 36, 50, 51, 56, 60, 66, 69, 72, 76, 99, 100, 101, 104, 108, 109, 111, 112, 119, 120, 131, 138, 140, 145, 147, 154, 158, 160, 166, 174, 178, 191, 204, 205, 206, 208, 218, 227, 229, 235, 240, 260, 267, 268, 280, 287, 295, 298, 304, 308, 311], 'Around Black': [1, 17, 101, 260, 308], 'Embroidered Aline': [2, 22], 'Aline White': [2, 141, 168, 175, 230, 300], 'Printed Aline': [3, 9, 33, 42, 43, 49, 53, 79, 141, 168, 171, 226, 239, 242, 244, 300], 'Aline Black': [3, 18, 22, 33, 42, 49, 53, 79, 188, 226, 262, 302, 306, 307, 310], 'Around White': [4, 29, 36, 51, 66, 109], 'Printed Flared': [5, 12, 75, 87, 88, 103, 107, 114, 115, 139, 153, 155, 157, 159, 167, 170, 190, 192, 198, 231, 234, 236, 237, 254, 255, 265, 266, 277, 283, 305, 312], 'Flared White': [5, 12, 157, 185, 234, 251], 'White Maroon': [5], 'Around Red': [6, 19, 32, 100, 120, 154, 191, 204, 205], 'Floral Print': [7, 13, 24, 27, 44, 46, 48, 50, 51, 55, 61, 77, 82, 91, 98, 105, 116, 129, 130, 134, 150, 172, 185, 215, 224, 245, 263, 271, 281, 284, 296], 'Print Regular': [7, 15, 24, 27, 61, 77, 82, 91, 180, 211, 224, 245, 271], 'Regular Blue': [7, 15, 137, 194, 225, 247, 278], 'Embroidered Regular': [8], 'Regular Pink': [8, 24, 27, 68, 142, 221, 264], 'Aline Dark': [9, 83, 102, 270], 'Dark Blue': [9, 10, 25, 39, 54, 82, 83, 88, 96, 97, 102, 145, 156, 172, 210, 248, 249, 270, 271, 283, 291, 301], 'Regular Dark': [10, 25, 54, 82, 96, 97, 156, 249, 271, 291, 301], 'Printed Skorts': [11, 34], 'Skorts Multicolor': [11, 34], 'White Black': [12, 29, 51, 62, 168, 175, 211, 230, 269], 'Print Wrap': [13, 16, 21, 50, 51, 60, 69, 76, 100, 119], 'Around Blue': [13, 21, 30, 50, 56, 69, 72, 99, 108, 111, 119, 131, 138, 160, 166, 227, 229, 298], 'Solid Flared': [14, 23, 31, 40, 47, 59, 65, 73, 81, 84, 92, 95, 117, 121, 128, 146, 176, 186, 201, 209, 214, 216, 219, 274, 313], 'Flared Maroon': [14, 115, 117, 209, 216, 274], 'Polka Print': [15, 179, 210], 'Graphic Print': [16, 21, 100], 'Around Green': [16, 20], 'Solid Aline': [18, 38, 102, 136, 184, 188, 195, 223, 228, 252, 292, 302, 306, 310], 'Red Blue': [19, 100], 'Flared Green': [23, 121], 'Regular Gold': [26], 'Gold Maroon': [26], 'Self Design': [28, 106, 113, 118, 120, 182, 191, 193, 225, 241, 251, 270, 275, 293, 309], 'Design Flared': [28, 113, 182, 241, 251], 'Flared Gold': [28], 'Flared Blue': [31, 59, 116, 139, 155, 170, 198, 201, 231, 265], 'Solid Regular': [35, 37, 52, 54, 63, 74, 86, 97, 135, 148, 152, 156, 164, 196, 197, 207, 220, 238, 249, 257, 264, 276, 278, 291, 294, 301], 'Regular Black': [35, 52, 61, 74, 91, 94, 118, 144, 162, 164, 173, 200, 207, 246, 250, 257, 282, 299], 'Regular Red': [37, 77, 89, 152, 161, 177, 180, 222, 224, 245, 272, 276], 'Aline Light': [38], 'Light Blue': [38, 135, 297], 'Solid Straight': [39, 279], 'Straight Dark': [39], 'Flared Black': [40, 55, 75, 81, 84, 92, 146, 153, 167, 181, 236, 237], 'Solid Broomstick': [41, 80, 122], 'Broomstick Gold': [41, 122], 'Gold Blue': [41], 'Aline Red': [43, 263], 'Print Flared': [44, 46, 48, 55, 98, 116, 130, 134, 172, 185], 'Flared Multicolor': [44, 48, 98, 103, 113, 114, 134, 159, 163, 182, 192, 241, 254, 277, 305, 312], 'Printed Gathered': [45, 110, 143, 187, 285], 'Gathered Red': [45, 213, 285], 'Flared Red': [46, 95, 190], 'Flared Pink': [47, 87, 107, 128, 130, 169, 176, 255], 'Blue Black': [50, 119], 'Striped Floral': [51], 'Striped Layered': [57], 'Layered Multicolor': [57], 'Regular Multicolor': [58], 'Animal Print': [60, 69, 76, 119, 133, 180, 211], 'Around Beige': [60, 104], 'Striped Asymetric': [62], 'Asymetric White': [62], 'Regular Grey': [63, 220], 'Solid Layered': [64, 261], 'Layered Black': [64, 261], 'Flared Light': [65], 'Light Green': [65, 151, 155], 'Solid Pencil': [67, 85, 123, 125, 149, 165, 199, 202, 259, 286], 'Pencil Grey': [67], 'Solid Gathered': [70, 213, 288], 'Gathered Pink': [70, 126, 143, 293], 'Printed Layered': [71], 'Layered Blue': [71], 'Flared Beige': [73], 'Around Pink': [76, 304], 'Printed Pleated': [78, 124], 'Pleated Multicolor': [78, 124, 215], 'Broomstick Red': [80], 'Red Gold': [80], 'Striped Aline': [83, 307], 'Pencil Black': [85, 149, 165, 199, 259, 286], 'Flared Dark': [88, 172, 186, 248, 283, 313], 'Blue White': [88, 210], 'Solid Asymetric': [90, 151, 256], 'Asymetric Black': [90], 'Solid Tiered': [93], 'Tiered White': [93], 'Striped Regular': [94, 162, 246, 299], 'Paisley Wrap': [101], 'Print Aline': [105, 129, 133, 150, 179, 263, 284, 296], 'Aline Blue': [105, 136, 171, 179, 223, 252, 292, 296], 'Design Gathered': [106, 193, 275, 293, 309], 'Gathered Yellow': [106], 'Gathered Blue': [110, 193], 'Around Maroon': [112, 206], 'Design Regular': [118, 225], 'Design Wrap': [120, 191], 'Gold Black': [122], 'Pencil Green': [123], 'Pencil Beige': [125], 'Striped Gathered': [126], 'Solid Pleated': [127, 183, 233, 258], 'Pleated Pink': [127], 'Aline Pink': [129, 228, 239, 284], 'Regular Green': [132, 212, 217, 253, 290], 'Aline Multicolor': [133, 244], 'Regular Light': [135], 'Around Multicolor': [140, 147, 158, 174, 178, 208, 218, 235, 240, 267, 268, 280, 295, 311], 'Around Dark': [145], 'Aline Brown': [150, 195], 'Brown Orange': [150], 'Asymetric Light': [151], 'Red Beige': [154], 'Blue Light': [155], 'Abstract Flared': [163, 169], 'Abstract Aline': [175], 'Striped Flared': [181, 248], 'Pleated Black': [183, 233], 'Aline Green': [184, 242], 'Dark Green': [186, 313], 'Gathered Multicolor': [187], 'Printed Peplum': [189, 297], 'Peplum Yellow': [189], 'Regular Yellow': [197], 'Pencil Blue': [202], 'Red Black': [205], 'Print Pleated': [210, 215], 'Pleated Dark': [210], 'Regular White': [211, 303], 'Checkered Regular': [212, 243, 247, 272], 'Flared Yellow': [214, 219], 'Checkered Aline': [230], 'Black Grey': [233], 'Regular Orange': [243], 'Green Black': [253, 290], 'Asymetric Yellow': [256], 'Pleated Green': [258], 'Embellished Aline': [262], 'Red Pink': [263], 'Flared Grey': [266], 'Striped Pencil': [269], 'Pencil White': [269], 'Design Aline': [270], 'Washed Straight': [273], 'Straight Blue': [273], 'Gathered Green': [275], 'Straight White': [279], 'Print Gathered': [281], 'Gathered White': [281], 'Around Brown': [287], 'Gathered Brown': [288], 'Checkered Gathered': [289], 'Gathered Black': [289], 'Peplum Light': [297], 'Gathered Maroon': [309]}\n"
     ]
    }
   ],
   "source": [
    "import nltk\n",
    "import re\n",
    "dict_bigram={}\n",
    "item_bigram={}\n",
    "# word_data = \"The best performance can bring in sky high success.\"\n",
    "for ind in data.index:\n",
    "    d=data['desc'][ind][6:-5]\n",
    "    d= re.sub(r'[^\\w\\s]', '', d) \n",
    "    nltk_tokens = nltk.word_tokenize(d)\n",
    "    arr=list(nltk.bigrams(nltk_tokens))\n",
    "    for i in arr:\n",
    "        if i in dict_bigram:\n",
    "            dict_bigram[i]=dict_bigram[i]+1\n",
    "            item_bigram[\" \".join(i)].append(ind)\n",
    "        else:\n",
    "            dict_bigram[i]=1\n",
    "            item_bigram[\" \".join(i)]=[]\n",
    "            item_bigram[\" \".join(i)].append(ind)\n",
    "print(item_bigram) \n"
   ]
  },
  {
   "cell_type": "code",
   "execution_count": 86,
   "metadata": {},
   "outputs": [
    {
     "name": "stdout",
     "output_type": "stream",
     "text": [
      "[('Wrap', 'Around'), ('Printed', 'Wrap'), ('Printed', 'Flared'), ('Floral', 'Print'), ('Printed', 'Regular'), ('Solid', 'Regular'), ('Solid', 'Flared'), ('Dark', 'Blue'), ('Around', 'Blue'), ('Regular', 'Black'), ('Printed', 'Aline'), ('Flared', 'Multicolor'), ('Aline', 'Black'), ('Self', 'Design'), ('Solid', 'Aline'), ('Around', 'Multicolor'), ('Print', 'Regular'), ('Regular', 'Red'), ('Flared', 'Black'), ('Regular', 'Dark'), ('Print', 'Wrap'), ('Flared', 'Blue'), ('Print', 'Flared'), ('Solid', 'Pencil'), ('Around', 'Red'), ('White', 'Black'), ('Flared', 'Pink'), ('Print', 'Aline'), ('Aline', 'Blue'), ('Regular', 'Maroon'), ('Regular', 'Blue'), ('Regular', 'Pink'), ('Animal', 'Print'), ('Aline', 'White'), ('Around', 'White'), ('Flared', 'White'), ('Flared', 'Maroon'), ('Pencil', 'Black'), ('Flared', 'Dark'), ('Around', 'Black'), ('Design', 'Flared'), ('Printed', 'Gathered'), ('Design', 'Gathered'), ('Regular', 'Green'), ('Aline', 'Dark'), ('Gathered', 'Pink'), ('Striped', 'Regular'), ('Solid', 'Pleated'), ('Aline', 'Pink'), ('Checkered', 'Regular'), ('Polka', 'Print'), ('Graphic', 'Print'), ('Light', 'Blue'), ('Solid', 'Broomstick'), ('Gathered', 'Red'), ('Flared', 'Red'), ('Light', 'Green'), ('Solid', 'Gathered'), ('Pleated', 'Multicolor'), ('Solid', 'Asymetric'), ('Embroidered', 'Aline'), ('Printed', 'Skorts'), ('Skorts', 'Multicolor'), ('Around', 'Green'), ('Red', 'Blue'), ('Flared', 'Green'), ('Solid', 'Straight'), ('Broomstick', 'Gold'), ('Aline', 'Red'), ('Blue', 'Black'), ('Around', 'Beige'), ('Regular', 'Grey'), ('Solid', 'Layered'), ('Layered', 'Black'), ('Around', 'Pink'), ('Printed', 'Pleated'), ('Striped', 'Aline'), ('Blue', 'White'), ('Gathered', 'Blue'), ('Around', 'Maroon'), ('Design', 'Regular'), ('Design', 'Wrap'), ('Aline', 'Multicolor'), ('Aline', 'Brown'), ('Abstract', 'Flared'), ('Striped', 'Flared'), ('Pleated', 'Black'), ('Aline', 'Green'), ('Dark', 'Green'), ('Printed', 'Peplum'), ('Print', 'Pleated'), ('Regular', 'White'), ('Flared', 'Yellow'), ('Green', 'Black'), ('White', 'Maroon'), ('Embroidered', 'Regular'), ('Regular', 'Gold'), ('Gold', 'Maroon'), ('Flared', 'Gold'), ('Aline', 'Light'), ('Straight', 'Dark'), ('Gold', 'Blue'), ('Striped', 'Floral'), ('Striped', 'Layered'), ('Layered', 'Multicolor'), ('Regular', 'Multicolor'), ('Striped', 'Asymetric'), ('Asymetric', 'White'), ('Flared', 'Light'), ('Pencil', 'Grey'), ('Printed', 'Layered'), ('Layered', 'Blue'), ('Flared', 'Beige'), ('Broomstick', 'Red'), ('Red', 'Gold'), ('Asymetric', 'Black'), ('Solid', 'Tiered'), ('Tiered', 'White'), ('Paisley', 'Wrap'), ('Gathered', 'Yellow'), ('Gold', 'Black'), ('Pencil', 'Green'), ('Pencil', 'Beige'), ('Striped', 'Gathered'), ('Pleated', 'Pink'), ('Regular', 'Light'), ('Around', 'Dark'), ('Brown', 'Orange'), ('Asymetric', 'Light'), ('Red', 'Beige'), ('Blue', 'Light'), ('Abstract', 'Aline'), ('Gathered', 'Multicolor'), ('Peplum', 'Yellow'), ('Regular', 'Yellow'), ('Pencil', 'Blue'), ('Red', 'Black'), ('Pleated', 'Dark'), ('Checkered', 'Aline'), ('Black', 'Grey'), ('Regular', 'Orange'), ('Asymetric', 'Yellow'), ('Pleated', 'Green'), ('Embellished', 'Aline'), ('Red', 'Pink'), ('Flared', 'Grey'), ('Striped', 'Pencil'), ('Pencil', 'White'), ('Design', 'Aline'), ('Washed', 'Straight'), ('Straight', 'Blue'), ('Gathered', 'Green'), ('Straight', 'White'), ('Print', 'Gathered'), ('Gathered', 'White'), ('Around', 'Brown'), ('Gathered', 'Brown'), ('Checkered', 'Gathered'), ('Gathered', 'Black'), ('Peplum', 'Light'), ('Gathered', 'Maroon')]\n"
     ]
    }
   ],
   "source": [
    "dict_bigram_sorted= sorted(dict_bigram, key=dict_bigram.get, reverse=True)\n",
    "print(dict_bigram_sorted)"
   ]
  },
  {
   "cell_type": "code",
   "execution_count": 87,
   "metadata": {},
   "outputs": [
    {
     "name": "stdout",
     "output_type": "stream",
     "text": [
      "[('Wrap', 'Around'), ('Printed', 'Wrap'), ('Printed', 'Flared'), ('Floral', 'Print'), ('Printed', 'Regular'), ('Gathered', 'Brown'), ('Checkered', 'Gathered'), ('Gathered', 'Black'), ('Peplum', 'Light'), ('Gathered', 'Maroon')]\n"
     ]
    }
   ],
   "source": [
    "row=dict_bigram_sorted[0:5]+dict_bigram_sorted[-5:]\n",
    "print(row)"
   ]
  },
  {
   "cell_type": "code",
   "execution_count": 88,
   "metadata": {},
   "outputs": [
    {
     "name": "stdout",
     "output_type": "stream",
     "text": [
      "[['Wrap Around'], ['Printed Wrap'], ['Printed Flared'], ['Floral Print'], ['Printed Regular'], ['Gathered Brown'], ['Checkered Gathered'], ['Gathered Black'], ['Peplum Light'], ['Gathered Maroon']]\n"
     ]
    }
   ],
   "source": [
    "res = [] \n",
    "for el in row: \n",
    "    sub=\" \".join(el)\n",
    "    res.append(list(sub.split(\"*\"))) \n",
    "print(res)"
   ]
  },
  {
   "cell_type": "code",
   "execution_count": 89,
   "metadata": {},
   "outputs": [
    {
     "name": "stdout",
     "output_type": "stream",
     "text": [
      "[['Wrap Around', 1, 4, 6, 13, 16, 17, 19, 20, 21, 29, 30, 32, 36, 50, 51, 56, 60, 66, 69, 72, 76, 99, 100, 101, 104, 108, 109, 111, 112, 119, 120, 131, 138, 140, 145, 147, 154, 158, 160, 166, 174, 178, 191, 204, 205, 206, 208, 218, 227, 229, 235, 240, 260, 267, 268, 280, 287, 295, 298, 304, 308, 311], ['Printed Wrap', 1, 4, 6, 17, 19, 20, 29, 30, 32, 36, 56, 66, 72, 99, 104, 108, 109, 111, 112, 131, 138, 140, 145, 147, 154, 158, 160, 166, 174, 178, 204, 205, 206, 208, 218, 227, 229, 235, 240, 260, 267, 268, 280, 287, 295, 298, 304, 308, 311], ['Printed Flared', 5, 12, 75, 87, 88, 103, 107, 114, 115, 139, 153, 155, 157, 159, 167, 170, 190, 192, 198, 231, 234, 236, 237, 254, 255, 265, 266, 277, 283, 305, 312], ['Floral Print', 7, 13, 24, 27, 44, 46, 48, 50, 51, 55, 61, 77, 82, 91, 98, 105, 116, 129, 130, 134, 150, 172, 185, 215, 224, 245, 263, 271, 281, 284, 296], ['Printed Regular', 0, 10, 25, 26, 58, 68, 89, 96, 132, 137, 142, 144, 161, 173, 177, 194, 200, 203, 217, 221, 222, 250, 253, 282, 290, 303], ['Gathered Brown', 288], ['Checkered Gathered', 289], ['Gathered Black', 289], ['Peplum Light', 297], ['Gathered Maroon', 309]]\n"
     ]
    }
   ],
   "source": [
    "import csv\n",
    "with open('skirt_top_bottom.csv', 'w', newline='') as file:\n",
    "    res = [] \n",
    "    for el in row: \n",
    "        sub=\" \".join(el)\n",
    "        res.append(list(sub.split(\"*\"))) \n",
    "    for i in range(len(res)):\n",
    "        res[i]=res[i]+item_bigram[res[i][0]]\n",
    "    print(res)\n",
    "    writer = csv.writer(file)\n",
    "    writer.writerows(res)"
   ]
  }
 ],
 "metadata": {
  "kernelspec": {
   "display_name": "Python 3",
   "language": "python",
   "name": "python3"
  },
  "language_info": {
   "codemirror_mode": {
    "name": "ipython",
    "version": 3
   },
   "file_extension": ".py",
   "mimetype": "text/x-python",
   "name": "python",
   "nbconvert_exporter": "python",
   "pygments_lexer": "ipython3",
   "version": "3.7.3"
  }
 },
 "nbformat": 4,
 "nbformat_minor": 2
}
