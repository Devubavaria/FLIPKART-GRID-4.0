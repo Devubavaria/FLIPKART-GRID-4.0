{
 "cells": [
  {
   "cell_type": "code",
   "execution_count": 33,
   "metadata": {},
   "outputs": [],
   "source": [
    "import pandas as pd\n",
    "from vaderSentiment.vaderSentiment import SentimentIntensityAnalyzer\n",
    "import nltk\n",
    "from nltk.corpus import stopwords \n",
    "import re\n",
    "analyser = SentimentIntensityAnalyzer()"
   ]
  },
  {
   "cell_type": "code",
   "execution_count": 34,
   "metadata": {},
   "outputs": [],
   "source": [
    "data=pd.read_csv(\"dress-flipkart-final-final.csv\")\n",
    "data.head()\n",
    "data=data[['URL','ID','ITEM','STARS','NUMBER OF RATINGS','NUMBER OF REVIEWS', 'LIST OF REVIEWS']]"
   ]
  },
  {
   "cell_type": "code",
   "execution_count": 35,
   "metadata": {},
   "outputs": [
    {
     "data": {
      "text/html": [
       "<div>\n",
       "<style scoped>\n",
       "    .dataframe tbody tr th:only-of-type {\n",
       "        vertical-align: middle;\n",
       "    }\n",
       "\n",
       "    .dataframe tbody tr th {\n",
       "        vertical-align: top;\n",
       "    }\n",
       "\n",
       "    .dataframe thead th {\n",
       "        text-align: right;\n",
       "    }\n",
       "</style>\n",
       "<table border=\"1\" class=\"dataframe\">\n",
       "  <thead>\n",
       "    <tr style=\"text-align: right;\">\n",
       "      <th></th>\n",
       "      <th>URL</th>\n",
       "      <th>id</th>\n",
       "      <th>desc</th>\n",
       "      <th>stars</th>\n",
       "      <th>num_ratings</th>\n",
       "      <th>num_reviews</th>\n",
       "      <th>reviews</th>\n",
       "    </tr>\n",
       "  </thead>\n",
       "  <tbody>\n",
       "    <tr>\n",
       "      <th>0</th>\n",
       "      <td>http://flipkart.com/aayu-women-fit-flare-multi...</td>\n",
       "      <td>0</td>\n",
       "      <td>Women Fit and Flare Multicolor Dress</td>\n",
       "      <td>4.0</td>\n",
       "      <td>4510</td>\n",
       "      <td>867</td>\n",
       "      <td>['nice🙂👍', 'Nice fabric... beautiful dress... ...</td>\n",
       "    </tr>\n",
       "    <tr>\n",
       "      <th>1</th>\n",
       "      <td>http://flipkart.com/micozy-women-a-line-multic...</td>\n",
       "      <td>1</td>\n",
       "      <td>Women A-line Multicolor Dress</td>\n",
       "      <td>4.0</td>\n",
       "      <td>12612</td>\n",
       "      <td>2026</td>\n",
       "      <td>['very very nice dress 💃💃💃💃💃', 'Good', 'good']</td>\n",
       "    </tr>\n",
       "    <tr>\n",
       "      <th>2</th>\n",
       "      <td>http://flipkart.com/daevish-women-a-line-black...</td>\n",
       "      <td>2</td>\n",
       "      <td>Women A-line Black Dress</td>\n",
       "      <td>4.3</td>\n",
       "      <td>6532</td>\n",
       "      <td>1445</td>\n",
       "      <td>['I love this dress 👌👌', 'Good quality...', 'P...</td>\n",
       "    </tr>\n",
       "    <tr>\n",
       "      <th>3</th>\n",
       "      <td>http://flipkart.com/limeswood-creation-women-m...</td>\n",
       "      <td>3</td>\n",
       "      <td>Women Maxi Black, Yellow Dress</td>\n",
       "      <td>3.9</td>\n",
       "      <td>408</td>\n",
       "      <td>50</td>\n",
       "      <td>['good product', 'Nice dress but finishing was...</td>\n",
       "    </tr>\n",
       "    <tr>\n",
       "      <th>4</th>\n",
       "      <td>http://flipkart.com/tokyo-talkies-women-maxi-b...</td>\n",
       "      <td>4</td>\n",
       "      <td>Women Maxi Black Dress</td>\n",
       "      <td>4.2</td>\n",
       "      <td>1173</td>\n",
       "      <td>283</td>\n",
       "      <td>['outfit is js osam', 'great dress', \"very ver...</td>\n",
       "    </tr>\n",
       "  </tbody>\n",
       "</table>\n",
       "</div>"
      ],
      "text/plain": [
       "                                                 URL  id  \\\n",
       "0  http://flipkart.com/aayu-women-fit-flare-multi...   0   \n",
       "1  http://flipkart.com/micozy-women-a-line-multic...   1   \n",
       "2  http://flipkart.com/daevish-women-a-line-black...   2   \n",
       "3  http://flipkart.com/limeswood-creation-women-m...   3   \n",
       "4  http://flipkart.com/tokyo-talkies-women-maxi-b...   4   \n",
       "\n",
       "                                   desc  stars  num_ratings  num_reviews  \\\n",
       "0  Women Fit and Flare Multicolor Dress    4.0         4510          867   \n",
       "1         Women A-line Multicolor Dress    4.0        12612         2026   \n",
       "2              Women A-line Black Dress    4.3         6532         1445   \n",
       "3        Women Maxi Black, Yellow Dress    3.9          408           50   \n",
       "4                Women Maxi Black Dress    4.2         1173          283   \n",
       "\n",
       "                                             reviews  \n",
       "0  ['nice🙂👍', 'Nice fabric... beautiful dress... ...  \n",
       "1     ['very very nice dress 💃💃💃💃💃', 'Good', 'good']  \n",
       "2  ['I love this dress 👌👌', 'Good quality...', 'P...  \n",
       "3  ['good product', 'Nice dress but finishing was...  \n",
       "4  ['outfit is js osam', 'great dress', \"very ver...  "
      ]
     },
     "execution_count": 35,
     "metadata": {},
     "output_type": "execute_result"
    }
   ],
   "source": [
    "data.rename(columns = {'ID':'id','ITEM':'desc', 'LIST OF REVIEWS':'reviews','NUMBER OF REVIEWS':'num_reviews','STARS':'stars','NUMBER OF RATINGS':'num_ratings'}, inplace=True)\n",
    "data.head()"
   ]
  },
  {
   "cell_type": "code",
   "execution_count": 36,
   "metadata": {},
   "outputs": [],
   "source": [
    "data.reviews = data.reviews.str.lower()\n",
    "data.reviews = data.reviews.str.replace('\\n','').str.replace('[\\'!\"#$%&\\()*+,-./:;<=>?@[\\\\]^_`{|}~]','')"
   ]
  },
  {
   "cell_type": "code",
   "execution_count": null,
   "metadata": {},
   "outputs": [],
   "source": [
    "data['vader_score'] = 1.0\n",
    "for ind in data.index: \n",
    "    rev=data['reviews'][ind]\n",
    "    x = rev.split()\n",
    "#     print(x)\n",
    "    sum_score=0.0\n",
    "    for i in x:\n",
    "        score = analyser.polarity_scores(i)\n",
    "        sum_score=sum_score+score['compound']\n",
    "    data['vader_score'][ind] =sum_score"
   ]
  },
  {
   "cell_type": "code",
   "execution_count": 38,
   "metadata": {},
   "outputs": [],
   "source": [
    "total_star_givers = data['num_ratings'].sum()     \n",
    "total_review_givers = data['num_reviews'].sum()\n",
    "# print(total_star_givers)\n",
    "# print(total_review_givers)"
   ]
  },
  {
   "cell_type": "code",
   "execution_count": 39,
   "metadata": {},
   "outputs": [],
   "source": [
    "data['final_score'] = ((data['stars']*data['num_ratings'])/total_star_givers)+((data['vader_score']*data['num_reviews'])/total_review_givers)"
   ]
  },
  {
   "cell_type": "code",
   "execution_count": 40,
   "metadata": {},
   "outputs": [
    {
     "data": {
      "text/html": [
       "<div>\n",
       "<style scoped>\n",
       "    .dataframe tbody tr th:only-of-type {\n",
       "        vertical-align: middle;\n",
       "    }\n",
       "\n",
       "    .dataframe tbody tr th {\n",
       "        vertical-align: top;\n",
       "    }\n",
       "\n",
       "    .dataframe thead th {\n",
       "        text-align: right;\n",
       "    }\n",
       "</style>\n",
       "<table border=\"1\" class=\"dataframe\">\n",
       "  <thead>\n",
       "    <tr style=\"text-align: right;\">\n",
       "      <th></th>\n",
       "      <th>URL</th>\n",
       "      <th>id</th>\n",
       "      <th>desc</th>\n",
       "      <th>stars</th>\n",
       "      <th>num_ratings</th>\n",
       "      <th>num_reviews</th>\n",
       "      <th>reviews</th>\n",
       "      <th>vader_score</th>\n",
       "      <th>final_score</th>\n",
       "    </tr>\n",
       "  </thead>\n",
       "  <tbody>\n",
       "    <tr>\n",
       "      <th>0</th>\n",
       "      <td>http://flipkart.com/aayu-women-fit-flare-multi...</td>\n",
       "      <td>0</td>\n",
       "      <td>Women Fit and Flare Multicolor Dress</td>\n",
       "      <td>4.0</td>\n",
       "      <td>4510</td>\n",
       "      <td>867</td>\n",
       "      <td>nice🙂👍 nice fabric beautiful dress perfect for...</td>\n",
       "      <td>2.5259</td>\n",
       "      <td>0.040742</td>\n",
       "    </tr>\n",
       "    <tr>\n",
       "      <th>1</th>\n",
       "      <td>http://flipkart.com/micozy-women-a-line-multic...</td>\n",
       "      <td>1</td>\n",
       "      <td>Women A-line Multicolor Dress</td>\n",
       "      <td>4.0</td>\n",
       "      <td>12612</td>\n",
       "      <td>2026</td>\n",
       "      <td>very very nice dress 💃💃💃💃💃 good good</td>\n",
       "      <td>1.3023</td>\n",
       "      <td>0.087918</td>\n",
       "    </tr>\n",
       "    <tr>\n",
       "      <th>2</th>\n",
       "      <td>http://flipkart.com/daevish-women-a-line-black...</td>\n",
       "      <td>2</td>\n",
       "      <td>Women A-line Black Dress</td>\n",
       "      <td>4.3</td>\n",
       "      <td>6532</td>\n",
       "      <td>1445</td>\n",
       "      <td>i love this dress 👌👌 good quality perfect dress</td>\n",
       "      <td>1.6492</td>\n",
       "      <td>0.055772</td>\n",
       "    </tr>\n",
       "    <tr>\n",
       "      <th>3</th>\n",
       "      <td>http://flipkart.com/limeswood-creation-women-m...</td>\n",
       "      <td>3</td>\n",
       "      <td>Women Maxi Black, Yellow Dress</td>\n",
       "      <td>3.9</td>\n",
       "      <td>408</td>\n",
       "      <td>50</td>\n",
       "      <td>good product nice dress but finishing was not ...</td>\n",
       "      <td>1.1351</td>\n",
       "      <td>0.002576</td>\n",
       "    </tr>\n",
       "    <tr>\n",
       "      <th>4</th>\n",
       "      <td>http://flipkart.com/tokyo-talkies-women-maxi-b...</td>\n",
       "      <td>4</td>\n",
       "      <td>Women Maxi Black Dress</td>\n",
       "      <td>4.2</td>\n",
       "      <td>1173</td>\n",
       "      <td>283</td>\n",
       "      <td>outfit is js osam great dress very verry  nice...</td>\n",
       "      <td>1.6183</td>\n",
       "      <td>0.010081</td>\n",
       "    </tr>\n",
       "  </tbody>\n",
       "</table>\n",
       "</div>"
      ],
      "text/plain": [
       "                                                 URL  id  \\\n",
       "0  http://flipkart.com/aayu-women-fit-flare-multi...   0   \n",
       "1  http://flipkart.com/micozy-women-a-line-multic...   1   \n",
       "2  http://flipkart.com/daevish-women-a-line-black...   2   \n",
       "3  http://flipkart.com/limeswood-creation-women-m...   3   \n",
       "4  http://flipkart.com/tokyo-talkies-women-maxi-b...   4   \n",
       "\n",
       "                                   desc  stars  num_ratings  num_reviews  \\\n",
       "0  Women Fit and Flare Multicolor Dress    4.0         4510          867   \n",
       "1         Women A-line Multicolor Dress    4.0        12612         2026   \n",
       "2              Women A-line Black Dress    4.3         6532         1445   \n",
       "3        Women Maxi Black, Yellow Dress    3.9          408           50   \n",
       "4                Women Maxi Black Dress    4.2         1173          283   \n",
       "\n",
       "                                             reviews  vader_score  final_score  \n",
       "0  nice🙂👍 nice fabric beautiful dress perfect for...       2.5259     0.040742  \n",
       "1               very very nice dress 💃💃💃💃💃 good good       1.3023     0.087918  \n",
       "2    i love this dress 👌👌 good quality perfect dress       1.6492     0.055772  \n",
       "3  good product nice dress but finishing was not ...       1.1351     0.002576  \n",
       "4  outfit is js osam great dress very verry  nice...       1.6183     0.010081  "
      ]
     },
     "execution_count": 40,
     "metadata": {},
     "output_type": "execute_result"
    }
   ],
   "source": [
    "data.head()"
   ]
  },
  {
   "cell_type": "code",
   "execution_count": 46,
   "metadata": {},
   "outputs": [],
   "source": [
    "data.to_csv('dresses_csv_final.csv')"
   ]
  },
  {
   "cell_type": "code",
   "execution_count": 41,
   "metadata": {},
   "outputs": [
    {
     "name": "stdout",
     "output_type": "stream",
     "text": [
      "{'Fit Flare': [0, 5, 6, 9, 11, 17, 34, 37, 40, 43, 67, 77, 80, 81, 83, 84, 87, 98, 102, 103, 107, 110, 114, 122, 123, 131, 135, 139, 142, 143, 144, 147, 148, 156, 158, 172, 176, 180, 181, 184, 193, 195, 198, 201, 205, 219, 222, 244, 245, 248, 254, 265, 267, 276, 277, 284, 286, 287, 289, 290, 297, 301, 304, 309, 316, 320, 322, 323, 325, 331, 333], 'Flare Multicolor': [0, 6, 9, 11, 87, 123, 142, 143, 286, 290, 297], 'Aline Multicolor': [1, 7, 10, 19, 65, 116, 121, 140, 153, 155, 163, 168, 221, 237, 246, 258, 329], 'Aline Black': [2, 27, 55, 62, 125, 128, 129, 164, 218, 250, 260, 279], 'Maxi Black': [3, 4, 175, 206, 216, 226, 231], 'Black Yellow': [3], 'Flare Yellow': [5, 83, 277, 325], 'Yellow Dress': [5, 18, 83], 'Dress With': [5, 18, 23, 83, 84, 87, 114, 265, 290], 'Skater Multicolor': [8, 28, 30, 38, 42, 44, 57, 64, 74, 105, 170, 178, 283, 288], 'Bandage Yellow': [12, 59, 94], 'Gown Maroon': [13, 229], 'Maxi Maroon': [14, 22, 52, 119, 212, 228, 233, 285], 'Maxi Blue': [15, 39, 46, 50, 137, 177, 197, 230, 300, 303, 306, 312, 314, 327], 'Bodycon Multicolor': [16], 'Flare Blue': [17, 80, 122, 135, 184, 245, 289], 'Maxi Yellow': [18, 88, 136, 161], 'Shift Blue': [20], 'Pinafore Blue': [21], 'Maxi Red': [23, 113, 160, 234, 253, 266], 'Red Dress': [23], 'Shift White': [24], 'Gathered Black': [25, 213], 'Two Piece': [26, 31, 149, 256, 278, 336], 'Piece Dress': [26, 31, 149, 256, 278, 336], 'Dress Black': [26, 31], 'Maxi White': [29, 36, 115, 174, 188, 210, 328], 'White Pink': [29, 34, 187, 193], 'Aline Orange': [32], 'Maxi Multicolor': [33, 68, 76, 124, 191, 196, 199, 239, 240, 247, 257, 264, 273], 'Flare Red': [34, 139], 'Red White': [34], 'Maxi Dark': [35, 78, 120, 189, 220, 270, 319], 'Dark Blue': [35, 43, 49, 70, 77, 78, 120, 148, 168, 179, 180, 189, 198, 220, 244, 247, 248, 254, 256, 261, 270, 276, 309, 316, 318, 319], 'Flare Green': [37, 81, 114, 265, 304, 323], 'Flare Black': [40, 67, 107, 131, 147, 156, 172, 201, 287, 320, 322, 331], 'Shirt Blue': [41, 190], 'Flare Dark': [43, 77, 148, 180, 198, 244, 248, 254, 276, 309, 316], 'High Low': [45, 47, 60, 63, 75, 89, 99, 227], 'Low Blue': [45, 60], 'Low Red': [47, 75], 'Sheath Maroon': [48, 82, 154, 185, 203, 249, 281, 315], 'Gathered Dark': [49, 318], 'Skater Pink': [51], 'Maxi Light': [53], 'Light Blue': [53, 85, 151, 335], 'Pleated Red': [54, 200], 'Skater Red': [56, 132, 152, 166], 'Skater Yellow': [58, 130, 298, 308], 'Aline Maroon': [61, 235], 'Low Dark': [63], 'Dark Green': [63, 296, 326], 'Pleated Green': [66], 'Aline Blue': [69, 127, 138, 141, 259, 292, 332], 'Gown Dark': [70, 179], 'Blue Red': [70], 'Red Gold': [70], 'Aline Green': [71, 133], 'Maxi Grey': [72, 204], 'Shirt Yellow': [73, 108, 165, 208, 272, 305, 337], 'Asymmetric Multicolor': [79], 'Flare Pink': [84, 98, 176, 195, 205, 219, 267, 301, 333], 'Pink Dress': [84], 'Shirt Light': [85, 151], 'Maxi Orange': [86, 111], 'Multicolor Dress': [87, 290], 'Low Beige': [89], 'Aline Yellow': [90, 293, 324], 'Aline Red': [91, 194, 215, 255, 275, 330], 'Red Black': [91, 214], 'Aline Light': [92], 'Light Green': [92], 'Bodycon Pink': [93, 232], 'Shirt Multicolor': [95], 'Skater Blue': [96, 173], 'Gathered Multicolor': [97, 183], 'Low Maroon': [99], 'Bodycon White': [100, 118], 'White Black': [100, 115, 118, 158, 181, 280, 317, 328], 'Aline Purple': [101, 321], 'Flare Purple': [102], 'Flare Maroon': [103, 110, 144, 222], 'Aline Pink': [104], 'Layered Maroon': [106, 117], 'Pleated Maroon': [109], 'Gown Pink': [112], 'Green Dress': [114, 265], 'Maxi Pink': [126, 134, 167, 192, 294, 310], 'Pinafore Red': [145, 291], 'Bodycon Black': [146], 'Dress Maroon': [149], 'Maroon Black': [149], 'Gown Brown': [150, 182], 'Maxi Green': [157, 269], 'Flare White': [158, 181, 193, 284], 'Skater Maroon': [159, 236, 241, 311], 'Aline White': [162, 187, 299, 307, 334], 'Multicolor Dark': [168, 247], 'Blue Pink': [168, 230], 'Pink Beige': [168], 'Gown Yellow': [169], 'Pleated Blue': [171], 'Blue Gold': [179], 'Gathered Blue': [186, 263], 'Red Green': [200], 'Green Blue': [200], 'Black Pink': [201], 'Bodycon Maroon': [202, 238, 274], 'Skater Black': [207, 251], 'Shirt White': [209, 211], 'Bodycon Red': [214, 223], 'Red Blue': [215], 'Aline Grey': [217, 252], 'Gown White': [224, 280], 'White Blue': [224], 'Sheath Red': [225], 'Low Multicolor': [227], 'Gown Orange': [242], 'Shirt Pink': [243], 'Dress Dark': [256], 'Aline Dark': [261], 'Shift Multicolor': [262], 'Bodycon Purple': [268], 'Pleated Yellow': [271], 'Dress Yellow': [278, 336], 'Gathered Red': [282], 'Shift Purple': [295], 'Sheath Dark': [296], 'Sheath Multicolor': [302], 'Sheath Black': [313], 'Skater White': [317], 'Green Yellow': [323], 'Bodycon Dark': [326], 'Layered Light': [335]}\n"
     ]
    }
   ],
   "source": [
    "dict_bigram={}\n",
    "item_bigram={}\n",
    "stop_words = set(stopwords.words('english')) \n",
    "for ind in data.index:\n",
    "    d=data['desc'][ind][6:-5]\n",
    "    d= re.sub(r'[^\\w\\s]', '', d) \n",
    "    nltk_tokens = nltk.word_tokenize(d)\n",
    "    nltk_tokens = [w for w in nltk_tokens if not w in stop_words] \n",
    "    arr=list(nltk.bigrams(nltk_tokens))\n",
    "    for i in arr:\n",
    "        if i in dict_bigram:\n",
    "            dict_bigram[i]=dict_bigram[i]+1\n",
    "            item_bigram[\" \".join(i)].append(ind)\n",
    "        else:\n",
    "            dict_bigram[i]=1\n",
    "            item_bigram[\" \".join(i)]=[]\n",
    "            item_bigram[\" \".join(i)].append(ind)\n",
    "print(item_bigram) "
   ]
  },
  {
   "cell_type": "code",
   "execution_count": 42,
   "metadata": {},
   "outputs": [
    {
     "name": "stdout",
     "output_type": "stream",
     "text": [
      "[('Fit', 'Flare'), ('Dark', 'Blue'), ('Aline', 'Multicolor'), ('Skater', 'Multicolor'), ('Maxi', 'Blue'), ('Maxi', 'Multicolor'), ('Aline', 'Black'), ('Flare', 'Black'), ('Flare', 'Multicolor'), ('Flare', 'Dark'), ('Dress', 'With'), ('Flare', 'Pink'), ('Maxi', 'Maroon'), ('High', 'Low'), ('Sheath', 'Maroon'), ('White', 'Black'), ('Maxi', 'Black'), ('Flare', 'Blue'), ('Maxi', 'White'), ('Maxi', 'Dark'), ('Aline', 'Blue'), ('Shirt', 'Yellow'), ('Maxi', 'Red'), ('Two', 'Piece'), ('Piece', 'Dress'), ('Flare', 'Green'), ('Aline', 'Red'), ('Maxi', 'Pink'), ('Aline', 'White'), ('Flare', 'Yellow'), ('Maxi', 'Yellow'), ('White', 'Pink'), ('Light', 'Blue'), ('Skater', 'Red'), ('Skater', 'Yellow'), ('Flare', 'Maroon'), ('Flare', 'White'), ('Skater', 'Maroon'), ('Yellow', 'Dress'), ('Bandage', 'Yellow'), ('Dark', 'Green'), ('Aline', 'Yellow'), ('Bodycon', 'Maroon'), ('Gown', 'Maroon'), ('Gathered', 'Black'), ('Dress', 'Black'), ('Flare', 'Red'), ('Shirt', 'Blue'), ('Low', 'Blue'), ('Low', 'Red'), ('Gathered', 'Dark'), ('Pleated', 'Red'), ('Aline', 'Maroon'), ('Gown', 'Dark'), ('Aline', 'Green'), ('Maxi', 'Grey'), ('Shirt', 'Light'), ('Maxi', 'Orange'), ('Multicolor', 'Dress'), ('Red', 'Black'), ('Bodycon', 'Pink'), ('Skater', 'Blue'), ('Gathered', 'Multicolor'), ('Bodycon', 'White'), ('Aline', 'Purple'), ('Layered', 'Maroon'), ('Green', 'Dress'), ('Pinafore', 'Red'), ('Gown', 'Brown'), ('Maxi', 'Green'), ('Multicolor', 'Dark'), ('Blue', 'Pink'), ('Gathered', 'Blue'), ('Skater', 'Black'), ('Shirt', 'White'), ('Bodycon', 'Red'), ('Aline', 'Grey'), ('Gown', 'White'), ('Dress', 'Yellow'), ('Black', 'Yellow'), ('Bodycon', 'Multicolor'), ('Shift', 'Blue'), ('Pinafore', 'Blue'), ('Red', 'Dress'), ('Shift', 'White'), ('Aline', 'Orange'), ('Red', 'White'), ('Skater', 'Pink'), ('Maxi', 'Light'), ('Low', 'Dark'), ('Pleated', 'Green'), ('Blue', 'Red'), ('Red', 'Gold'), ('Asymmetric', 'Multicolor'), ('Pink', 'Dress'), ('Low', 'Beige'), ('Aline', 'Light'), ('Light', 'Green'), ('Shirt', 'Multicolor'), ('Low', 'Maroon'), ('Flare', 'Purple'), ('Aline', 'Pink'), ('Pleated', 'Maroon'), ('Gown', 'Pink'), ('Bodycon', 'Black'), ('Dress', 'Maroon'), ('Maroon', 'Black'), ('Pink', 'Beige'), ('Gown', 'Yellow'), ('Pleated', 'Blue'), ('Blue', 'Gold'), ('Red', 'Green'), ('Green', 'Blue'), ('Black', 'Pink'), ('Red', 'Blue'), ('White', 'Blue'), ('Sheath', 'Red'), ('Low', 'Multicolor'), ('Gown', 'Orange'), ('Shirt', 'Pink'), ('Dress', 'Dark'), ('Aline', 'Dark'), ('Shift', 'Multicolor'), ('Bodycon', 'Purple'), ('Pleated', 'Yellow'), ('Gathered', 'Red'), ('Shift', 'Purple'), ('Sheath', 'Dark'), ('Sheath', 'Multicolor'), ('Sheath', 'Black'), ('Skater', 'White'), ('Green', 'Yellow'), ('Bodycon', 'Dark'), ('Layered', 'Light')]\n"
     ]
    }
   ],
   "source": [
    "dict_bigram_sorted= sorted(dict_bigram, key=dict_bigram.get, reverse=True)\n",
    "print(dict_bigram_sorted)"
   ]
  },
  {
   "cell_type": "code",
   "execution_count": 43,
   "metadata": {},
   "outputs": [
    {
     "name": "stdout",
     "output_type": "stream",
     "text": [
      "[('Fit', 'Flare'), ('Dark', 'Blue'), ('Aline', 'Multicolor'), ('Skater', 'Multicolor'), ('Maxi', 'Blue'), ('Sheath', 'Black'), ('Skater', 'White'), ('Green', 'Yellow'), ('Bodycon', 'Dark'), ('Layered', 'Light')]\n"
     ]
    }
   ],
   "source": [
    "row=dict_bigram_sorted[0:5]+dict_bigram_sorted[-5:]\n",
    "print(row)"
   ]
  },
  {
   "cell_type": "code",
   "execution_count": 44,
   "metadata": {},
   "outputs": [
    {
     "name": "stdout",
     "output_type": "stream",
     "text": [
      "[['Fit Flare'], ['Dark Blue'], ['Aline Multicolor'], ['Skater Multicolor'], ['Maxi Blue'], ['Sheath Black'], ['Skater White'], ['Green Yellow'], ['Bodycon Dark'], ['Layered Light']]\n"
     ]
    }
   ],
   "source": [
    "res = [] \n",
    "for el in row: \n",
    "#         sub = el.split(', ')\n",
    "    sub=\" \".join(el)\n",
    "    res.append(list(sub.split(\"*\"))) \n",
    "print(res)"
   ]
  },
  {
   "cell_type": "code",
   "execution_count": 45,
   "metadata": {},
   "outputs": [
    {
     "name": "stdout",
     "output_type": "stream",
     "text": [
      "[['Fit Flare', 0, 5, 6, 9, 11, 17, 34, 37, 40, 43, 67, 77, 80, 81, 83, 84, 87, 98, 102, 103, 107, 110, 114, 122, 123, 131, 135, 139, 142, 143, 144, 147, 148, 156, 158, 172, 176, 180, 181, 184, 193, 195, 198, 201, 205, 219, 222, 244, 245, 248, 254, 265, 267, 276, 277, 284, 286, 287, 289, 290, 297, 301, 304, 309, 316, 320, 322, 323, 325, 331, 333], ['Dark Blue', 35, 43, 49, 70, 77, 78, 120, 148, 168, 179, 180, 189, 198, 220, 244, 247, 248, 254, 256, 261, 270, 276, 309, 316, 318, 319], ['Aline Multicolor', 1, 7, 10, 19, 65, 116, 121, 140, 153, 155, 163, 168, 221, 237, 246, 258, 329], ['Skater Multicolor', 8, 28, 30, 38, 42, 44, 57, 64, 74, 105, 170, 178, 283, 288], ['Maxi Blue', 15, 39, 46, 50, 137, 177, 197, 230, 300, 303, 306, 312, 314, 327], ['Sheath Black', 313], ['Skater White', 317], ['Green Yellow', 323], ['Bodycon Dark', 326], ['Layered Light', 335]]\n"
     ]
    }
   ],
   "source": [
    "import csv\n",
    "with open('dress_top_bottom.csv', 'w', newline='') as file:\n",
    "    res = [] \n",
    "    for el in row: \n",
    "#         sub = el.split(', ')\n",
    "        sub=\" \".join(el)\n",
    "        res.append(list(sub.split(\"*\"))) \n",
    "\n",
    "    for i in range(len(res)):\n",
    "        res[i]=res[i]+item_bigram[res[i][0]]\n",
    "\n",
    "    print(res)\n",
    "    writer = csv.writer(file)\n",
    "    writer.writerows(res)"
   ]
  }
 ],
 "metadata": {
  "kernelspec": {
   "display_name": "Python 3",
   "language": "python",
   "name": "python3"
  },
  "language_info": {
   "codemirror_mode": {
    "name": "ipython",
    "version": 3
   },
   "file_extension": ".py",
   "mimetype": "text/x-python",
   "name": "python",
   "nbconvert_exporter": "python",
   "pygments_lexer": "ipython3",
   "version": "3.7.3"
  }
 },
 "nbformat": 4,
 "nbformat_minor": 2
}
