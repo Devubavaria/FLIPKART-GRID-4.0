{
  "nbformat": 4,
  "nbformat_minor": 0,
  "metadata": {
    "colab": {
      "name": "trending-model-training.ipynb",
      "provenance": [],
      "collapsed_sections": [],
      "machine_shape": "hm"
    },
    "kernelspec": {
      "name": "python3",
      "display_name": "Python 3"
    },
    "accelerator": "GPU"
  },
  "cells": [
    {
      "cell_type": "markdown",
      "metadata": {
        "id": "sU2Ca0J3jocv",
        "colab_type": "text"
      },
      "source": [
        "## MODEL FOR PREDICTING TRENDINESS AND NON TRENDINESS SCORE "
      ]
    },
    {
      "cell_type": "code",
      "metadata": {
        "id": "1vix_lpDjniZ",
        "colab_type": "code",
        "colab": {}
      },
      "source": [
        ""
      ],
      "execution_count": null,
      "outputs": []
    },
    {
      "cell_type": "code",
      "metadata": {
        "id": "X5v1zUy5phtC",
        "colab_type": "code",
        "colab": {
          "base_uri": "https://localhost:8080/",
          "height": 124
        },
        "outputId": "51859ee6-c4bd-427a-8dd1-c526f8c83987"
      },
      "source": [
        "from google.colab import drive\n",
        "drive.mount('/content/drive')"
      ],
      "execution_count": null,
      "outputs": [
        {
          "output_type": "stream",
          "text": [
            "Go to this URL in a browser: https://accounts.google.com/o/oauth2/auth?client_id=947318989803-6bn6qk8qdgf4n4g3pfee6491hc0brc4i.apps.googleusercontent.com&redirect_uri=urn%3aietf%3awg%3aoauth%3a2.0%3aoob&response_type=code&scope=email%20https%3a%2f%2fwww.googleapis.com%2fauth%2fdocs.test%20https%3a%2f%2fwww.googleapis.com%2fauth%2fdrive%20https%3a%2f%2fwww.googleapis.com%2fauth%2fdrive.photos.readonly%20https%3a%2f%2fwww.googleapis.com%2fauth%2fpeopleapi.readonly\n",
            "\n",
            "Enter your authorization code:\n",
            "··········\n",
            "Mounted at /content/drive\n"
          ],
          "name": "stdout"
        }
      ]
    },
    {
      "cell_type": "code",
      "metadata": {
        "id": "MGSWn_BLoVo7",
        "colab_type": "code",
        "colab": {
          "base_uri": "https://localhost:8080/",
          "height": 34
        },
        "outputId": "4ec7e1f3-ff34-48b6-f44c-742f04f7abd1"
      },
      "source": [
        "%cd /content/drive/My\\ Drive"
      ],
      "execution_count": null,
      "outputs": [
        {
          "output_type": "stream",
          "text": [
            "/content/drive/My Drive\n"
          ],
          "name": "stdout"
        }
      ]
    },
    {
      "cell_type": "code",
      "metadata": {
        "id": "Tjx6_veESDKH",
        "colab_type": "code",
        "colab": {}
      },
      "source": [
        "# USAGE\n",
        "# python train_mask_detector.py --dataset dataset\n",
        "\n",
        "# import the necessary packages\n",
        "from tensorflow.keras.preprocessing.image import ImageDataGenerator\n",
        "from tensorflow.keras.applications import ResNet50\n",
        "from tensorflow.keras.layers import AveragePooling2D\n",
        "from tensorflow.keras.layers import Dropout\n",
        "from tensorflow.keras.layers import Flatten\n",
        "from tensorflow.keras.layers import Dense\n",
        "from tensorflow.keras.layers import Input\n",
        "from tensorflow.keras.models import Model\n",
        "from tensorflow.keras.optimizers import Adam\n",
        "from tensorflow.keras.applications.mobilenet_v2 import preprocess_input\n",
        "from tensorflow.keras.preprocessing.image import img_to_array\n",
        "from tensorflow.keras.preprocessing.image import load_img\n",
        "from tensorflow.keras.utils import to_categorical\n",
        "from sklearn.preprocessing import LabelBinarizer\n",
        "from sklearn.model_selection import train_test_split\n",
        "from sklearn.metrics import classification_report\n",
        "from imutils import paths\n",
        "import matplotlib.pyplot as plt\n",
        "import numpy as np\n",
        "import argparse\n",
        "import os"
      ],
      "execution_count": null,
      "outputs": []
    },
    {
      "cell_type": "code",
      "metadata": {
        "id": "ch4Y3lKoSGpw",
        "colab_type": "code",
        "colab": {}
      },
      "source": [
        "INIT_LR = 1e-4\n",
        "EPOCHS = 20\n",
        "BS = 32\n",
        "\n",
        "\n",
        "imagePaths = list(paths.list_images(\"./trend_prediction_data\"))\n",
        "data = []\n",
        "labels = []\n",
        "\n",
        "# loop over the image paths\n",
        "for imagePath in imagePaths:\n",
        "  os.system(\"clear\")\n",
        "  print(imagePath)\n",
        "  try:\n",
        "    label = imagePath.split(os.path.sep)[-2]\n",
        "    # load the input image (224x224) and preprocess it\n",
        "    image = load_img(imagePath, target_size=(224, 224))\n",
        "    image = img_to_array(image)\n",
        "    image = preprocess_input(image)\n",
        "    # update the data and labels lists, respectively\n",
        "    data.append(image)\n",
        "    labels.append(label)\n",
        "  except:\n",
        "    print(imagePath)"
      ],
      "execution_count": null,
      "outputs": []
    },
    {
      "cell_type": "code",
      "metadata": {
        "id": "x20zpSm0iiGb",
        "colab_type": "code",
        "colab": {
          "base_uri": "https://localhost:8080/",
          "height": 34
        },
        "outputId": "7455189f-fff1-4831-94cc-561ad5180519"
      },
      "source": [
        "len(data)"
      ],
      "execution_count": null,
      "outputs": [
        {
          "output_type": "execute_result",
          "data": {
            "text/plain": [
              "6822"
            ]
          },
          "metadata": {
            "tags": []
          },
          "execution_count": 4
        }
      ]
    },
    {
      "cell_type": "code",
      "metadata": {
        "id": "aTAo7dBYSJVz",
        "colab_type": "code",
        "colab": {
          "base_uri": "https://localhost:8080/",
          "height": 72
        },
        "outputId": "b697e21f-6bb7-43f5-9200-c1f98a7adbc7"
      },
      "source": [
        "# convert the data and labels to NumPy arrays\n",
        "data = np.array(data, dtype=\"float32\")\n",
        "labels = np.array(labels)\n",
        "\n",
        "# perform one-hot encoding on the labels\n",
        "lb = LabelBinarizer()\n",
        "labels = lb.fit_transform(labels)\n",
        "labels = to_categorical(labels)\n",
        "\n",
        "# partition the data into training and testing splits using 75% of\n",
        "# the data for training and the remaining 25% for testing\n",
        "(trainX, testX, trainY, testY) = train_test_split(data, labels,\n",
        "\ttest_size=0.20, stratify=labels, random_state=42)\n",
        "\n",
        "# construct the training image generator for data augmentation\n",
        "aug = ImageDataGenerator(\n",
        "\trotation_range=20,\n",
        "\tzoom_range=0.15,\n",
        "\twidth_shift_range=0.2,\n",
        "\theight_shift_range=0.2,\n",
        "\tshear_range=0.15,\n",
        "\thorizontal_flip=True,\n",
        "\tfill_mode=\"nearest\")\n",
        "\n",
        "# load the MobileNetV2 network, ensuring the head FC layer sets are\n",
        "# left off\n",
        "baseModel = ResNet50(weights=\"imagenet\", include_top=False,\n",
        "\tinput_tensor=Input(shape=(224, 224, 3)))\n",
        "\n",
        "# construct the head of the model that will be placed on top of the\n",
        "# the base model\n",
        "headModel = baseModel.output\n",
        "headModel = AveragePooling2D(pool_size=(7, 7))(headModel)\n",
        "headModel = Flatten(name=\"flatten\")(headModel)\n",
        "headModel = Dense(128, activation=\"relu\")(headModel)\n",
        "headModel = Dropout(0.5)(headModel)\n",
        "headModel = Dense(2, activation=\"softmax\")(headModel)\n",
        "\n",
        "# place the head FC model on top of the base model (this will become\n",
        "# the actual model we will train)\n",
        "model = Model(inputs=baseModel.input, outputs=headModel)\n",
        "\n",
        "# loop over all layers in the base model and freeze them so they will\n",
        "# *not* be updated during the first training process\n",
        "for layer in baseModel.layers:\n",
        "\tlayer.trainable = False"
      ],
      "execution_count": null,
      "outputs": [
        {
          "output_type": "stream",
          "text": [
            "Downloading data from https://storage.googleapis.com/tensorflow/keras-applications/resnet/resnet50_weights_tf_dim_ordering_tf_kernels_notop.h5\n",
            "94773248/94765736 [==============================] - 4s 0us/step\n"
          ],
          "name": "stdout"
        }
      ]
    },
    {
      "cell_type": "code",
      "metadata": {
        "id": "PmsNvhgSiuXs",
        "colab_type": "code",
        "colab": {
          "base_uri": "https://localhost:8080/",
          "height": 746
        },
        "outputId": "b759ba66-ec6a-4be6-cf32-89f60e309768"
      },
      "source": [
        "# place the head FC model on top of the base model (this will become\n",
        "# the actual model we will train)\n",
        "model = Model(inputs=baseModel.input, outputs=headModel)\n",
        "\n",
        "# loop over all layers in the base model and freeze them so they will\n",
        "# *not* be updated during the first training process\n",
        "for layer in baseModel.layers:\n",
        "\tlayer.trainable = False\n",
        "\n",
        "# compile our model\n",
        "print(\"[INFO] compiling model...\")\n",
        "opt = Adam(lr=INIT_LR, decay=INIT_LR / EPOCHS)\n",
        "model.compile(loss=\"binary_crossentropy\", optimizer=opt,\n",
        "\tmetrics=[\"accuracy\"])\n",
        "\n",
        "# train the head of the network\n",
        "print(\"[INFO] training head...\")\n",
        "H = model.fit(\n",
        "\taug.flow(trainX, trainY, batch_size=BS),\n",
        "\tsteps_per_epoch=len(trainX) // BS,\n",
        "\tvalidation_data=(testX, testY),\n",
        "\tvalidation_steps=len(testX) // BS,\n",
        "\tepochs=EPOCHS)"
      ],
      "execution_count": null,
      "outputs": [
        {
          "output_type": "stream",
          "text": [
            "[INFO] compiling model...\n",
            "[INFO] training head...\n",
            "Epoch 1/20\n",
            "170/170 [==============================] - 55s 324ms/step - loss: 0.3957 - accuracy: 0.8192 - val_loss: 0.2344 - val_accuracy: 0.8916\n",
            "Epoch 2/20\n",
            "170/170 [==============================] - 53s 313ms/step - loss: 0.2783 - accuracy: 0.8782 - val_loss: 0.1913 - val_accuracy: 0.9150\n",
            "Epoch 3/20\n",
            "170/170 [==============================] - 53s 314ms/step - loss: 0.2427 - accuracy: 0.9003 - val_loss: 0.1744 - val_accuracy: 0.9245\n",
            "Epoch 4/20\n",
            "170/170 [==============================] - 53s 313ms/step - loss: 0.2250 - accuracy: 0.9076 - val_loss: 0.1754 - val_accuracy: 0.9245\n",
            "Epoch 5/20\n",
            "170/170 [==============================] - 53s 313ms/step - loss: 0.2052 - accuracy: 0.9159 - val_loss: 0.1542 - val_accuracy: 0.9355\n",
            "Epoch 6/20\n",
            "170/170 [==============================] - 53s 310ms/step - loss: 0.2005 - accuracy: 0.9198 - val_loss: 0.1527 - val_accuracy: 0.9370\n",
            "Epoch 7/20\n",
            "170/170 [==============================] - 53s 309ms/step - loss: 0.1905 - accuracy: 0.9261 - val_loss: 0.1529 - val_accuracy: 0.9341\n",
            "Epoch 8/20\n",
            "170/170 [==============================] - 52s 308ms/step - loss: 0.1841 - accuracy: 0.9226 - val_loss: 0.1464 - val_accuracy: 0.9348\n",
            "Epoch 9/20\n",
            "170/170 [==============================] - 52s 308ms/step - loss: 0.1780 - accuracy: 0.9285 - val_loss: 0.1301 - val_accuracy: 0.9451\n",
            "Epoch 10/20\n",
            "170/170 [==============================] - 52s 308ms/step - loss: 0.1713 - accuracy: 0.9333 - val_loss: 0.1460 - val_accuracy: 0.9333\n",
            "Epoch 11/20\n",
            "170/170 [==============================] - 52s 307ms/step - loss: 0.1660 - accuracy: 0.9333 - val_loss: 0.1438 - val_accuracy: 0.9355\n",
            "Epoch 12/20\n",
            "170/170 [==============================] - 52s 304ms/step - loss: 0.1680 - accuracy: 0.9311 - val_loss: 0.1197 - val_accuracy: 0.9502\n",
            "Epoch 13/20\n",
            "170/170 [==============================] - 52s 305ms/step - loss: 0.1593 - accuracy: 0.9373 - val_loss: 0.1365 - val_accuracy: 0.9399\n",
            "Epoch 14/20\n",
            "170/170 [==============================] - 52s 304ms/step - loss: 0.1592 - accuracy: 0.9375 - val_loss: 0.1304 - val_accuracy: 0.9399\n",
            "Epoch 15/20\n",
            "170/170 [==============================] - 52s 304ms/step - loss: 0.1510 - accuracy: 0.9419 - val_loss: 0.1191 - val_accuracy: 0.9465\n",
            "Epoch 16/20\n",
            "170/170 [==============================] - 52s 304ms/step - loss: 0.1512 - accuracy: 0.9430 - val_loss: 0.1226 - val_accuracy: 0.9473\n",
            "Epoch 17/20\n",
            "170/170 [==============================] - 52s 305ms/step - loss: 0.1421 - accuracy: 0.9473 - val_loss: 0.1196 - val_accuracy: 0.9516\n",
            "Epoch 18/20\n",
            "170/170 [==============================] - 52s 303ms/step - loss: 0.1422 - accuracy: 0.9419 - val_loss: 0.1305 - val_accuracy: 0.9392\n",
            "Epoch 19/20\n",
            "170/170 [==============================] - 52s 303ms/step - loss: 0.1443 - accuracy: 0.9416 - val_loss: 0.1145 - val_accuracy: 0.9516\n",
            "Epoch 20/20\n",
            "170/170 [==============================] - 51s 303ms/step - loss: 0.1426 - accuracy: 0.9465 - val_loss: 0.1088 - val_accuracy: 0.9531\n"
          ],
          "name": "stdout"
        }
      ]
    },
    {
      "cell_type": "code",
      "metadata": {
        "id": "nVL8tdiei2Qx",
        "colab_type": "code",
        "colab": {
          "base_uri": "https://localhost:8080/",
          "height": 208
        },
        "outputId": "ab4a06aa-7122-4b2d-d679-dfd9e5cbd0cd"
      },
      "source": [
        "# make predictions on the testing set\n",
        "print(\"[INFO] evaluating network...\")\n",
        "predIdxs = model.predict(testX, batch_size=BS)\n",
        "\n",
        "# for each image in the testing set we need to find the index of the\n",
        "# label with corresponding largest predicted probability\n",
        "predIdxs = np.argmax(predIdxs, axis=1)\n",
        "\n",
        "# show a nicely formatted classification report\n",
        "print(classification_report(testY.argmax(axis=1), predIdxs,\n",
        "\ttarget_names=lb.classes_))\n",
        "\n",
        "# serialize the model to disk\n",
        "print(\"[INFO] saving mask detector model...\")\n",
        "model.save(\"trend.model\", save_format=\"h5\")"
      ],
      "execution_count": null,
      "outputs": [
        {
          "output_type": "stream",
          "text": [
            "[INFO] evaluating network...\n",
            "              precision    recall  f1-score   support\n",
            "\n",
            "non_trending       0.86      0.98      0.91       347\n",
            "    trending       0.99      0.94      0.97      1018\n",
            "\n",
            "    accuracy                           0.95      1365\n",
            "   macro avg       0.92      0.96      0.94      1365\n",
            "weighted avg       0.96      0.95      0.95      1365\n",
            "\n",
            "[INFO] saving mask detector model...\n"
          ],
          "name": "stdout"
        }
      ]
    },
    {
      "cell_type": "code",
      "metadata": {
        "id": "V4hOhZWQnGHY",
        "colab_type": "code",
        "colab": {
          "base_uri": "https://localhost:8080/",
          "height": 299
        },
        "outputId": "2439de2b-7cf6-48c4-c574-fd0804a87189"
      },
      "source": [
        "# plot the training loss and accuracy\n",
        "N = EPOCHS\n",
        "plt.style.use(\"ggplot\")\n",
        "plt.figure()\n",
        "plt.plot(np.arange(0, N), H.history[\"loss\"], label=\"train_loss\")\n",
        "plt.plot(np.arange(0, N), H.history[\"val_loss\"], label=\"val_loss\")\n",
        "plt.plot(np.arange(0, N), H.history[\"accuracy\"], label=\"train_acc\")\n",
        "plt.plot(np.arange(0, N), H.history[\"val_accuracy\"], label=\"val_acc\")\n",
        "plt.title(\"Training Loss and Accuracy\")\n",
        "plt.xlabel(\"Epoch #\")\n",
        "plt.ylabel(\"Loss/Accuracy\")\n",
        "plt.legend(loc=\"lower left\")\n",
        "plt.savefig(\"plot_trend.png\")"
      ],
      "execution_count": null,
      "outputs": [
        {
          "output_type": "display_data",
          "data": {
            "image/png": "[encoded data removed]",
            "text/plain": [
              "<Figure size 432x288 with 1 Axes>"
            ]
          },
          "metadata": {
            "tags": []
          }
        }
      ]
    },
    {
      "cell_type": "code",
      "metadata": {
        "id": "Yt62m2JbnNPe",
        "colab_type": "code",
        "colab": {}
      },
      "source": [
        ""
      ],
      "execution_count": null,
      "outputs": []
    }
  ]
}